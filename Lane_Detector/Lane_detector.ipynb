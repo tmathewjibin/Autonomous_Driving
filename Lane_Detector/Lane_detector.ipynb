{
 "cells": [
  {
   "cell_type": "code",
   "execution_count": 1,
   "id": "de45fb98",
   "metadata": {},
   "outputs": [],
   "source": [
    "import matplotlib.pyplot as plt\n",
    "import matplotlib.image as mpimg\n",
    "import numpy as np\n",
    "import cv2\n",
    "import math\n",
    "from moviepy.editor import VideoFileClip\n",
    "from IPython.display import HTML\n",
    "from collections import deque\n",
    "from ipywidgets import interact\n",
    "%matplotlib inline"
   ]
  },
  {
   "cell_type": "code",
   "execution_count": 2,
   "id": "4e4302cf",
   "metadata": {},
   "outputs": [],
   "source": [
    "class ProcessFrame:\n",
    "    \n",
    "    #def __init__(self,image):\n",
    "    #    self.img = image\n",
    "        \n",
    "    def grayscale(self,image):\n",
    "        return cv2.cvtColor(image, cv2.COLOR_RGB2GRAY)\n",
    "    \n",
    "    def canny(self,img, low_threshold, high_threshold):\n",
    "        return cv2.Canny(img, low_threshold, high_threshold)\n",
    "\n",
    "    def gaussian_blur(self,img, kernel_size):\n",
    "        return cv2.GaussianBlur(img, (kernel_size, kernel_size), 0)\n",
    "    \n",
    "    def region_of_interest(self,img, vertices):\n",
    "    #defining a blank mask to start with\n",
    "        mask = np.zeros_like(img)\n",
    "        if len(img.shape) > 2:\n",
    "            channel_count = img.shape[2]  # i.e. 3 or 4 depending on your image\n",
    "            ignore_mask_color = (255,) * channel_count\n",
    "        else:\n",
    "            ignore_mask_color = 255\n",
    "        \n",
    "    #filling pixels inside the polygon defined by \"vertices\" with the fill color    \n",
    "        cv2.fillPoly(mask, vertices, ignore_mask_color)\n",
    "    \n",
    "    #returning the image only where mask pixels are nonzero\n",
    "        masked_image = cv2.bitwise_and(img, mask)\n",
    "        return masked_image"
   ]
  },
  {
   "cell_type": "code",
   "execution_count": 3,
   "id": "ce028165",
   "metadata": {},
   "outputs": [],
   "source": [
    "class DetectLane:\n",
    "    def __init__(self,frame):\n",
    "        #self.img = inp\n",
    "        self.low_t = 50\n",
    "        self.high_t = 150\n",
    "        self.kernel = 3\n",
    "        self.frame = frame\n",
    "        self.angle_pairs = [(-50,-20),(20,50)]\n",
    "        \n",
    "    def calc_slope(self,lines):\n",
    "        slopes = (lines[:,:,3] - lines[:,:,1])/(lines[:,:,2] - lines[:,:,0])\n",
    "        return slopes\n",
    "    \n",
    "    def calc_theta(self,slopes):\n",
    "        theta = np.arctan(slopes)\n",
    "        theta_deg = np.degrees(theta)\n",
    "        return theta_deg\n",
    "    \n",
    "    def segment_lane(self,lines,slope_degrees):\n",
    "        leftlane = []\n",
    "        rightlane = []\n",
    "        for i,theta in enumerate(slope_degrees):\n",
    "            if self.angle_pairs[0][0] < theta < self.angle_pairs[0][1]:\n",
    "                leftlane.append(lines[i])\n",
    "            if self.angle_pairs[1][0] < theta < self.angle_pairs[1][1] : \n",
    "                rightlane.append(lines[i])\n",
    "        return leftlane,rightlane\n",
    "    \n",
    "    def decide_lane(self,lines):\n",
    "        slopes = self.calc_slope(lines)\n",
    "        slope_degrees = self.calc_theta(slopes)\n",
    "        left_lane,right_lane = self.segment_lane(lines,slope_degrees)   \n",
    "        return left_lane,right_lane\n",
    "    \n",
    "    def draw_extended(self,image,x,f,m,b):\n",
    "        y1 = max(f(x))\n",
    "        y2 = image.shape[1]\n",
    "        x1 = (y1 - b)/m\n",
    "        x2 = (y2 - b)/m\n",
    "        cv2.line(image,(int(x1),int(y1)),(int(x2),int(y2)),(255,0,0),10)\n",
    "\n",
    "    def draw_lines(self,image,lines,color = [255,0,0],thickness = 2):\n",
    "        x= []\n",
    "        y =[]\n",
    "        lines = np.array(lines)\n",
    "        x1 =lines[:,:,0].flatten()\n",
    "        x2 =lines[:,:,2].flatten()\n",
    "        y1 = lines[:,:,1].flatten()\n",
    "        y2 = lines[:,:,3].flatten()\n",
    "        for i in range(len(x1)):\n",
    "            x +=[x1[i],x2[i]]\n",
    "            y +=[y1[i],y2[i]]\n",
    "        z = np.polyfit(x,y,1)\n",
    "        m,b = z\n",
    "        f = np.poly1d(z)\n",
    "        cv2.line(image,(int(max(x)),int(f(max(x)))),(int(min(x)),int(f(min(x)))),(255,0,0),10)\n",
    "        self.draw_extended(image,x,f,m,b)\n",
    "        \n",
    "    def process_image(self,image):\n",
    "        \n",
    "        vertices = np.array([[(50,image.shape[0]),(450,330),(550,330),(image.shape[1],image.shape[0])]],dtype = np.int32)\n",
    "        line_image = np.copy(image) *0\n",
    "        \n",
    "        gray = self.frame.grayscale(image)\n",
    "        blur = self.frame.gaussian_blur(gray,self.kernel)\n",
    "        canny_img = self.frame.canny(blur,self.low_t,self.high_t)\n",
    "        roi = self.frame.region_of_interest(canny_img,vertices)\n",
    "        lines = cv2.HoughLinesP(roi,1,np.pi/120,20,np.array([]),15,40)\n",
    "        left_lane,right_lane = self.decide_lane(lines)\n",
    "        self.draw_lines(image,left_lane, color=[100, 0, 0], thickness=2)\n",
    "        self.draw_lines(image,right_lane,color=[100,0,0],thickness = 2)\n",
    "        lines_edges = cv2.addWeighted(image,0.8,line_image,0.2,0)\n",
    "        result = lines_edges\n",
    "        return result\n",
    "          "
   ]
  },
  {
   "cell_type": "code",
   "execution_count": 4,
   "id": "fe7f6a9e",
   "metadata": {},
   "outputs": [],
   "source": [
    "def input_function():\n",
    "    #image = mpimg.imread('test_images/solidWhiteRight.jpg')\n",
    "    clip1 = VideoFileClip(\"test_videos/solidWhiteRight.mp4\")\n",
    "    clip2 = VideoFileClip('test_videos/solidYellowLeft.mp4')\n",
    "    #print('This image is:', type(image), 'with dimensions:', image.shape)\n",
    "    #plt.imshow(image)\n",
    "    return clip1,clip2"
   ]
  },
  {
   "cell_type": "code",
   "execution_count": 5,
   "id": "d28d5038",
   "metadata": {},
   "outputs": [
    {
     "name": "stderr",
     "output_type": "stream",
     "text": [
      "t:   5%|▌         | 12/221 [00:00<00:01, 113.71it/s, now=None]"
     ]
    },
    {
     "name": "stdout",
     "output_type": "stream",
     "text": [
      "Moviepy - Building video test_videos_output/solidWhiteRightclass.mp4.\n",
      "Moviepy - Writing video test_videos_output/solidWhiteRightclass.mp4\n",
      "\n"
     ]
    },
    {
     "name": "stderr",
     "output_type": "stream",
     "text": [
      "                                                              \r"
     ]
    },
    {
     "name": "stdout",
     "output_type": "stream",
     "text": [
      "Moviepy - Done !\n",
      "Moviepy - video ready test_videos_output/solidWhiteRightclass.mp4\n",
      "CPU times: user 6.31 s, sys: 1.72 s, total: 8.03 s\n",
      "Wall time: 3.82 s\n"
     ]
    }
   ],
   "source": [
    "if __name__ == \"__main__\":\n",
    "    white_output = 'test_videos_output/solidWhiteRightclass.mp4'\n",
    "    clip1 = VideoFileClip(\"test_videos/solidWhiteRight.mp4\")\n",
    "    frame = ProcessFrame()\n",
    "    detector = DetectLane(frame)\n",
    "    white_clip = clip1.fl_image(detector.process_image)\n",
    "    %time white_clip.write_videofile(white_output, audio=False)"
   ]
  },
  {
   "cell_type": "code",
   "execution_count": 6,
   "id": "fa77360d",
   "metadata": {},
   "outputs": [
    {
     "data": {
      "text/html": [
       "\n",
       "<video width=\"960\" height=\"540\" controls>\n",
       "  <source src=\"test_videos_output/solidWhiteRightclass.mp4\">\n",
       "</video>\n"
      ],
      "text/plain": [
       "<IPython.core.display.HTML object>"
      ]
     },
     "execution_count": 6,
     "metadata": {},
     "output_type": "execute_result"
    }
   ],
   "source": [
    "HTML(\"\"\"\n",
    "<video width=\"960\" height=\"540\" controls>\n",
    "  <source src=\"{0}\">\n",
    "</video>\n",
    "\"\"\".format(white_output))"
   ]
  },
  {
   "cell_type": "code",
   "execution_count": 7,
   "id": "f12e692c",
   "metadata": {},
   "outputs": [
    {
     "name": "stderr",
     "output_type": "stream",
     "text": [
      "t:   2%|▏         | 12/681 [00:00<00:05, 118.92it/s, now=None]"
     ]
    },
    {
     "name": "stdout",
     "output_type": "stream",
     "text": [
      "Moviepy - Building video test_videos_output/solidYellowLeftclass.mp4.\n",
      "Moviepy - Writing video test_videos_output/solidYellowLeftclass.mp4\n",
      "\n"
     ]
    },
    {
     "name": "stderr",
     "output_type": "stream",
     "text": [
      "                                                              \r"
     ]
    },
    {
     "name": "stdout",
     "output_type": "stream",
     "text": [
      "Moviepy - Done !\n",
      "Moviepy - video ready test_videos_output/solidYellowLeftclass.mp4\n",
      "CPU times: user 21.6 s, sys: 6.27 s, total: 27.9 s\n",
      "Wall time: 12 s\n"
     ]
    }
   ],
   "source": [
    "yellow_output = 'test_videos_output/solidYellowLeftclass.mp4'\n",
    "clip2 = VideoFileClip('test_videos/solidYellowLeft.mp4')\n",
    "frame2 = ProcessFrame()\n",
    "detector2 = DetectLane(frame2)\n",
    "yellow_clip = clip2.fl_image(detector2.process_image)\n",
    "%time yellow_clip.write_videofile(yellow_output, audio=False)"
   ]
  },
  {
   "cell_type": "code",
   "execution_count": 8,
   "id": "fafac7a0",
   "metadata": {},
   "outputs": [
    {
     "data": {
      "text/html": [
       "\n",
       "<video width=\"960\" height=\"540\" controls>\n",
       "  <source src=\"test_videos_output/solidYellowLeftclass.mp4\">\n",
       "</video>\n"
      ],
      "text/plain": [
       "<IPython.core.display.HTML object>"
      ]
     },
     "execution_count": 8,
     "metadata": {},
     "output_type": "execute_result"
    }
   ],
   "source": [
    "HTML(\"\"\"\n",
    "<video width=\"960\" height=\"540\" controls>\n",
    "  <source src=\"{0}\">\n",
    "</video>\n",
    "\"\"\".format(yellow_output))"
   ]
  },
  {
   "cell_type": "code",
   "execution_count": null,
   "id": "72f714f2",
   "metadata": {},
   "outputs": [],
   "source": []
  }
 ],
 "metadata": {
  "kernelspec": {
   "display_name": "Python 3",
   "language": "python",
   "name": "python3"
  },
  "language_info": {
   "codemirror_mode": {
    "name": "ipython",
    "version": 3
   },
   "file_extension": ".py",
   "mimetype": "text/x-python",
   "name": "python",
   "nbconvert_exporter": "python",
   "pygments_lexer": "ipython3",
   "version": "3.6.9"
  }
 },
 "nbformat": 4,
 "nbformat_minor": 5
}
